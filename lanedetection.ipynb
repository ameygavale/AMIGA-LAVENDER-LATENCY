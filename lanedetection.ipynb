# Install OpenCV (Colab usually has it preinstalled, but just in case)
!pip install opencv-python-headless

import cv2
import numpy as np
from google.colab.patches import cv2_imshow
from google.colab import files

# Upload image
uploaded = files.upload()
image_path = list(uploaded.keys())[0]

# Load image
image = cv2.imread("/content/lane.jpeg")
if image is None:
    raise ValueError("Image not found. Upload a valid image!")

# Step 1: Convert to grayscale
gray = cv2.cvtColor(image, cv2.COLOR_BGR2GRAY)

# Step 2: Gaussian blur
blur = cv2.GaussianBlur(gray, (5, 5), 0)

# Step 3: Canny edge detection
edges = cv2.Canny(blur, 50, 150)

# Step 4: Define a region of interest mask
mask = np.zeros_like(edges)
height, width = edges.shape
polygon = np.array([[
    (0, height),
    (width, height),
    (width//2, int(height*0.6))
]], np.int32)
cv2.fillPoly(mask, polygon, 255)

masked_edges = cv2.bitwise_and(edges, mask)

# Step 5: Hough Transform to detect lines
lines = cv2.HoughLinesP(
    masked_edges,
    rho=1,
    theta=np.pi/180,
    threshold=50,
    minLineLength=100,
    maxLineGap=50
)

# Step 6: Draw lines on a copy of the original image
line_image = np.copy(image)
if lines is not None:
    for line in lines:
        x1, y1, x2, y2 = line[0]
        cv2.line(line_image, (x1, y1), (x2, y2), (0, 255, 0), 5)

# Blend original image with line image
output = cv2.addWeighted(image, 0.8, line_image, 1, 1)

# Show results inline
cv2_imshow(edges)          # Edges
cv2_imshow(masked_edges)   # Masked edges
cv2_imshow(output)         # Final lane detection
